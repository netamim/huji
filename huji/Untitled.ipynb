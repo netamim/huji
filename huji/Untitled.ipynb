{
 "cells": [
  {
   "cell_type": "code",
   "execution_count": 8,
   "id": "a6cf5c62",
   "metadata": {},
   "outputs": [],
   "source": [
    "import string as st"
   ]
  },
  {
   "cell_type": "code",
   "execution_count": 32,
   "id": "1d520acb",
   "metadata": {},
   "outputs": [
    {
     "name": "stdout",
     "output_type": "stream",
     "text": [
      "Help on built-in function removeprefix:\n",
      "\n",
      "removeprefix(prefix, /) method of builtins.str instance\n",
      "    Return a str with the given prefix string removed if present.\n",
      "    \n",
      "    If the string starts with the prefix string, return string[len(prefix):].\n",
      "    Otherwise, return a copy of the original string.\n",
      "\n"
     ]
    }
   ],
   "source": [
    "a = 'nETGDFNta37i146!'\n",
    "help(s.removeprefix)"
   ]
  },
  {
   "cell_type": "code",
   "execution_count": 41,
   "id": "3fc51cc9",
   "metadata": {},
   "outputs": [
    {
     "data": {
      "text/plain": [
       "['n', 'e', 't', 'a', '2', ';']"
      ]
     },
     "execution_count": 41,
     "metadata": {},
     "output_type": "execute_result"
    }
   ],
   "source": [
    "s = 'neta12;'\n",
    "s1 = list(s)\n",
    "s1.remove('1')\n",
    "s1"
   ]
  },
  {
   "cell_type": "code",
   "execution_count": 35,
   "id": "0357c206",
   "metadata": {},
   "outputs": [
    {
     "name": "stdout",
     "output_type": "stream",
     "text": [
      "abcdefghijklmnopqrstuvwxyzABCDEFGHIJKLMNOPQRSTUVWXYZ \n",
      "1\n",
      "2\n",
      ";\n"
     ]
    },
    {
     "data": {
      "text/plain": [
       "'neta12;'"
      ]
     },
     "execution_count": 35,
     "metadata": {},
     "output_type": "execute_result"
    }
   ],
   "source": [
    "s = 'neta12;'\n",
    "legal = st.ascii_letters+' '\n",
    "[print(i) for i in s if i not in legal]\n",
    "for i in s:\n",
    "    if i not in legal:\n",
    "        s.replace(i,'')\n",
    "        \n",
    "s"
   ]
  },
  {
   "cell_type": "code",
   "execution_count": 70,
   "id": "28ca71d1",
   "metadata": {},
   "outputs": [],
   "source": [
    "def createD(s):\n",
    "    s2 = ''.join([i for i in s.lower() if i in st.ascii_letters+' ']).split(' ')\n",
    "    dic = dict()\n",
    "    for i in s2:\n",
    "        dic[i] = s2.count(i)\n",
    "    return dic"
   ]
  },
  {
   "cell_type": "code",
   "execution_count": 51,
   "id": "aa789d7d",
   "metadata": {},
   "outputs": [
    {
     "data": {
      "text/plain": [
       "\"i've got a feeling a feeling deep inside oh, yeah (oh, yeah) that's right) i've got a feeling a feeling i can't hide oh, no, no oh, no! oh, no yeah yeah i've got a feeling yeah\""
      ]
     },
     "execution_count": 51,
     "metadata": {},
     "output_type": "execute_result"
    }
   ],
   "source": [
    "sent.lower()"
   ]
  },
  {
   "cell_type": "code",
   "execution_count": 71,
   "id": "b6cc000d",
   "metadata": {},
   "outputs": [],
   "source": [
    "sent = \"I've got a feeling \\\n",
    "A feeling deep inside \\\n",
    "Oh, yeah (Oh, yeah) \\\n",
    "That's right) \\\n",
    "I've got a feeling \\\n",
    "A feeling I can't hide \\\n",
    "Oh, no, no Oh, no! Oh, no Yeah Yeah \\\n",
    "I've got a feeling \\\n",
    "Yeah\""
   ]
  },
  {
   "cell_type": "code",
   "execution_count": 72,
   "id": "869e800e",
   "metadata": {},
   "outputs": [],
   "source": [
    "d=createD(sent)"
   ]
  },
  {
   "cell_type": "code",
   "execution_count": 64,
   "id": "4798f27e",
   "metadata": {},
   "outputs": [
    {
     "data": {
      "text/plain": [
       "{'ive': 3,\n",
       " 'got': 3,\n",
       " 'a': 5,\n",
       " 'feeling': 5,\n",
       " 'deep': 1,\n",
       " 'inside': 1,\n",
       " 'oh': 5,\n",
       " 'yeah': 5,\n",
       " 'thats': 1,\n",
       " 'right': 1,\n",
       " 'i': 1,\n",
       " 'cant': 1,\n",
       " 'hide': 1,\n",
       " 'no': 4}"
      ]
     },
     "execution_count": 64,
     "metadata": {},
     "output_type": "execute_result"
    }
   ],
   "source": [
    "d"
   ]
  }
 ],
 "metadata": {
  "kernelspec": {
   "display_name": "Python 3 (ipykernel)",
   "language": "python",
   "name": "python3"
  },
  "language_info": {
   "codemirror_mode": {
    "name": "ipython",
    "version": 3
   },
   "file_extension": ".py",
   "mimetype": "text/x-python",
   "name": "python",
   "nbconvert_exporter": "python",
   "pygments_lexer": "ipython3",
   "version": "3.9.13"
  }
 },
 "nbformat": 4,
 "nbformat_minor": 5
}
