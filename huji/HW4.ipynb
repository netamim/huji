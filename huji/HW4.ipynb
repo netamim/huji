{
 "cells": [
  {
   "cell_type": "markdown",
   "metadata": {
    "id": "qgYd3lTGU6xO"
   },
   "source": [
    "#HW4 Questions:\n",
    "\n",
    "A) 11.2 - Binding data\n",
    "\n",
    "B) 12.4 - Novick & Weiner\n",
    "\n",
    "C) 12.8 - SIR model time course\n",
    "\n",
    "D) 13.6 - Endemic SIRS model fixed point\n"
   ]
  },
  {
   "cell_type": "code",
   "execution_count": null,
   "metadata": {
    "id": "hzsKqI_FczDH"
   },
   "outputs": [],
   "source": [
    "# import os\n",
    "# import copy\n",
    "# from pathlib import Path\n",
    "# from numbers import Number\n",
    "# from collections import namedtuple\n",
    "# from typing import NamedTuple, List, Callable, Tuple, Dict\n",
    "\n",
    "import numpy as np\n",
    "import pandas as pd\n",
    "import matplotlib.pyplot as plt\n",
    "# import matplotlib.animation as animation\n",
    "import seaborn as sns\n",
    "\n",
    "from scipy.optimize import least_squares\n",
    "# from matplotlib import rc\n",
    "# from IPython.display import HTML\n",
    "# plt.matplotlib.rcParams['animation.embed_limit'] = 2**128\n",
    "\n",
    "# from scipy.special import factorial\n",
    "# from google.colab import drive\n",
    "\n",
    "# rng = np.random.default_rng()\n"
   ]
  },
  {
   "cell_type": "markdown",
   "metadata": {
    "id": "7O7zWf484-E4"
   },
   "source": [
    "# Q11.2 - Binding data\n",
    "\n"
   ]
  },
  {
   "cell_type": "markdown",
   "metadata": {
    "id": "an5ckMZSOtUU"
   },
   "source": [
    "### Obtaining dataset 18 - hemoglobin file and plotting it\n"
   ]
  },
  {
   "cell_type": "code",
   "execution_count": null,
   "metadata": {
    "colab": {
     "base_uri": "https://localhost:8080/",
     "height": 228
    },
    "id": "kTCdo8YUTNY3",
    "outputId": "8a645288-fa6d-462d-e129-f0578cd932d8"
   },
   "outputs": [
    {
     "data": {
      "text/html": [
       "\n",
       "  <div id=\"df-a6f8675f-737e-4f0e-ba3f-7ea7f98104b4\">\n",
       "    <div class=\"colab-df-container\">\n",
       "      <div>\n",
       "<style scoped>\n",
       "    .dataframe tbody tr th:only-of-type {\n",
       "        vertical-align: middle;\n",
       "    }\n",
       "\n",
       "    .dataframe tbody tr th {\n",
       "        vertical-align: top;\n",
       "    }\n",
       "\n",
       "    .dataframe thead th {\n",
       "        text-align: right;\n",
       "    }\n",
       "</style>\n",
       "<table border=\"1\" class=\"dataframe\">\n",
       "  <thead>\n",
       "    <tr style=\"text-align: right;\">\n",
       "      <th></th>\n",
       "      <th>concentration</th>\n",
       "      <th>p_unbound</th>\n",
       "    </tr>\n",
       "  </thead>\n",
       "  <tbody>\n",
       "    <tr>\n",
       "      <th>0</th>\n",
       "      <td>0.000027</td>\n",
       "      <td>0.0298</td>\n",
       "    </tr>\n",
       "    <tr>\n",
       "      <th>1</th>\n",
       "      <td>0.000024</td>\n",
       "      <td>0.0302</td>\n",
       "    </tr>\n",
       "    <tr>\n",
       "      <th>2</th>\n",
       "      <td>0.000026</td>\n",
       "      <td>0.0327</td>\n",
       "    </tr>\n",
       "    <tr>\n",
       "      <th>3</th>\n",
       "      <td>0.000025</td>\n",
       "      <td>0.0329</td>\n",
       "    </tr>\n",
       "    <tr>\n",
       "      <th>4</th>\n",
       "      <td>0.000023</td>\n",
       "      <td>0.0416</td>\n",
       "    </tr>\n",
       "  </tbody>\n",
       "</table>\n",
       "</div>\n",
       "      <button class=\"colab-df-convert\" onclick=\"convertToInteractive('df-a6f8675f-737e-4f0e-ba3f-7ea7f98104b4')\"\n",
       "              title=\"Convert this dataframe to an interactive table.\"\n",
       "              style=\"display:none;\">\n",
       "        \n",
       "  <svg xmlns=\"http://www.w3.org/2000/svg\" height=\"24px\"viewBox=\"0 0 24 24\"\n",
       "       width=\"24px\">\n",
       "    <path d=\"M0 0h24v24H0V0z\" fill=\"none\"/>\n",
       "    <path d=\"M18.56 5.44l.94 2.06.94-2.06 2.06-.94-2.06-.94-.94-2.06-.94 2.06-2.06.94zm-11 1L8.5 8.5l.94-2.06 2.06-.94-2.06-.94L8.5 2.5l-.94 2.06-2.06.94zm10 10l.94 2.06.94-2.06 2.06-.94-2.06-.94-.94-2.06-.94 2.06-2.06.94z\"/><path d=\"M17.41 7.96l-1.37-1.37c-.4-.4-.92-.59-1.43-.59-.52 0-1.04.2-1.43.59L10.3 9.45l-7.72 7.72c-.78.78-.78 2.05 0 2.83L4 21.41c.39.39.9.59 1.41.59.51 0 1.02-.2 1.41-.59l7.78-7.78 2.81-2.81c.8-.78.8-2.07 0-2.86zM5.41 20L4 18.59l7.72-7.72 1.47 1.35L5.41 20z\"/>\n",
       "  </svg>\n",
       "      </button>\n",
       "      \n",
       "  <style>\n",
       "    .colab-df-container {\n",
       "      display:flex;\n",
       "      flex-wrap:wrap;\n",
       "      gap: 12px;\n",
       "    }\n",
       "\n",
       "    .colab-df-convert {\n",
       "      background-color: #E8F0FE;\n",
       "      border: none;\n",
       "      border-radius: 50%;\n",
       "      cursor: pointer;\n",
       "      display: none;\n",
       "      fill: #1967D2;\n",
       "      height: 32px;\n",
       "      padding: 0 0 0 0;\n",
       "      width: 32px;\n",
       "    }\n",
       "\n",
       "    .colab-df-convert:hover {\n",
       "      background-color: #E2EBFA;\n",
       "      box-shadow: 0px 1px 2px rgba(60, 64, 67, 0.3), 0px 1px 3px 1px rgba(60, 64, 67, 0.15);\n",
       "      fill: #174EA6;\n",
       "    }\n",
       "\n",
       "    [theme=dark] .colab-df-convert {\n",
       "      background-color: #3B4455;\n",
       "      fill: #D2E3FC;\n",
       "    }\n",
       "\n",
       "    [theme=dark] .colab-df-convert:hover {\n",
       "      background-color: #434B5C;\n",
       "      box-shadow: 0px 1px 3px 1px rgba(0, 0, 0, 0.15);\n",
       "      filter: drop-shadow(0px 1px 2px rgba(0, 0, 0, 0.3));\n",
       "      fill: #FFFFFF;\n",
       "    }\n",
       "  </style>\n",
       "\n",
       "      <script>\n",
       "        const buttonEl =\n",
       "          document.querySelector('#df-a6f8675f-737e-4f0e-ba3f-7ea7f98104b4 button.colab-df-convert');\n",
       "        buttonEl.style.display =\n",
       "          google.colab.kernel.accessAllowed ? 'block' : 'none';\n",
       "\n",
       "        async function convertToInteractive(key) {\n",
       "          const element = document.querySelector('#df-a6f8675f-737e-4f0e-ba3f-7ea7f98104b4');\n",
       "          const dataTable =\n",
       "            await google.colab.kernel.invokeFunction('convertToInteractive',\n",
       "                                                     [key], {});\n",
       "          if (!dataTable) return;\n",
       "\n",
       "          const docLinkHtml = 'Like what you see? Visit the ' +\n",
       "            '<a target=\"_blank\" href=https://colab.research.google.com/notebooks/data_table.ipynb>data table notebook</a>'\n",
       "            + ' to learn more about interactive tables.';\n",
       "          element.innerHTML = '';\n",
       "          dataTable['output_type'] = 'display_data';\n",
       "          await google.colab.output.renderOutput(dataTable, element);\n",
       "          const docLink = document.createElement('div');\n",
       "          docLink.innerHTML = docLinkHtml;\n",
       "          element.appendChild(docLink);\n",
       "        }\n",
       "      </script>\n",
       "    </div>\n",
       "  </div>\n",
       "  "
      ],
      "text/plain": [
       "   concentration  p_unbound\n",
       "0       0.000027     0.0298\n",
       "1       0.000024     0.0302\n",
       "2       0.000026     0.0327\n",
       "3       0.000025     0.0329\n",
       "4       0.000023     0.0416"
      ]
     },
     "execution_count": 7,
     "metadata": {},
     "output_type": "execute_result"
    }
   ],
   "source": [
    "hg = pd.DataFrame(np.load(np.DataSource().open('http://www.physics.upenn.edu/biophys/PMLS2e/Datasets/HbMb/hemoglobin.npy', \"rb\")), columns=('concentration', 'p_unbound'))\n",
    "hg.sort_values('p_unbound', inplace=True)\n",
    "hg.reset_index(drop=True, inplace=True)\n",
    "hg[:5]"
   ]
  },
  {
   "cell_type": "code",
   "execution_count": null,
   "metadata": {
    "colab": {
     "base_uri": "https://localhost:8080/",
     "height": 320
    },
    "id": "uIo0wRyxd4tf",
    "outputId": "cf04848d-ae37-4d49-e636-f12b2eb92c51"
   },
   "outputs": [
    {
     "data": {
      "image/png": "[encoded data removed]",
      "text/plain": [
       "<Figure size 360x288 with 1 Axes>"
      ]
     },
     "metadata": {
      "needs_background": "light"
     },
     "output_type": "display_data"
    }
   ],
   "source": [
    "xmax = 3e-5\n",
    "ymax = 1.03\n",
    "\n",
    "plt.subplots(figsize=(5,4))\n",
    "plt.scatter(hg.concentration, hg.p_unbound, facecolors='none', edgecolors='b')\n",
    "\n",
    "plt.xlim(0, xmax)\n",
    "plt.xlabel('Concentration $c$ [$M$]')\n",
    "\n",
    "plt.ylim(0, ymax)\n",
    "plt.ylabel('$P_{unbound}$')\n",
    "\n",
    "plt.title('Oxygen Binding by Hemoglobin')\n",
    "plt.show()"
   ]
  },
  {
   "cell_type": "markdown",
   "metadata": {
    "id": "gV1XSbtDW9Rz"
   },
   "source": [
    "### a) Suggesting good approximate values for $K_d$ and $n$\n",
    "\n",
    "To suggest a good numerical value for $K_d$, we can look at the concentration where half of the molecules are bound. To do that I'll take the average of the two concentrations"
   ]
  },
  {
   "cell_type": "code",
   "execution_count": null,
   "metadata": {
    "colab": {
     "base_uri": "https://localhost:8080/",
     "height": 55
    },
    "id": "NVlaueN5OSNl",
    "outputId": "86a98d90-fb7c-4a8a-c300-b4c0017f28f3"
   },
   "outputs": [
    {
     "data": {
      "image/png": "[encoded data removed]",
      "text/plain": [
       "<Figure size 360x288 with 1 Axes>"
      ]
     },
     "metadata": {
      "needs_background": "light"
     },
     "output_type": "display_data"
    }
   ],
   "source": [
    "index_prob_half = hg.p_unbound.searchsorted(0.5)\n",
    "k_d = (hg.concentration[index_prob_half - 1] + hg.concentration[index_prob_half]) / 2\n",
    "\n",
    "plt.subplots(figsize=(5,4))\n",
    "plt.scatter(hg.concentration, hg.p_unbound, facecolors='none', edgecolors='b', label='data')\n",
    "\n",
    "plt.plot(np.ones(20) * k_d, np.linspace(0, ymax, 20), 'g--', label=f'$K_d = {k_d: .2e}$')\n",
    "plt.plot(np.linspace(0, xmax, 20), np.ones(20) * 0.5, 'g--')\n",
    "\n",
    "plt.xlim(0, xmax)\n",
    "plt.xlabel('Concentration $c$ [$M$]')\n",
    "\n",
    "plt.ylim(0, ymax)\n",
    "plt.ylabel('$P_{unbound}$')\n",
    "\n",
    "plt.legend()\n",
    "plt.title('Oxygen Binding by Hemoglobin')\n",
    "plt.show()\n"
   ]
  },
  {
   "cell_type": "markdown",
   "metadata": {
    "id": "j6h-F28VQfLM"
   },
   "source": [
    "To get the estimator for $n$, we will first transform the concentration to a dimensionless variable $\\bar{c}$"
   ]
  },
  {
   "cell_type": "code",
   "execution_count": null,
   "metadata": {
    "colab": {
     "base_uri": "https://localhost:8080/",
     "height": 272
    },
    "id": "Y-lXlDNiVoQL",
    "outputId": "69da8eb2-94c6-42e2-8e38-0bf327d9b832"
   },
   "outputs": [
    {
     "data": {
      "text/html": [
       "\n",
       "  <div id=\"df-79f2fba1-3cf5-4021-93d6-ba6e8594d34d\">\n",
       "    <div class=\"colab-df-container\">\n",
       "      <div>\n",
       "<style scoped>\n",
       "    .dataframe tbody tr th:only-of-type {\n",
       "        vertical-align: middle;\n",
       "    }\n",
       "\n",
       "    .dataframe tbody tr th {\n",
       "        vertical-align: top;\n",
       "    }\n",
       "\n",
       "    .dataframe thead th {\n",
       "        text-align: right;\n",
       "    }\n",
       "</style>\n",
       "<table border=\"1\" class=\"dataframe\">\n",
       "  <thead>\n",
       "    <tr style=\"text-align: right;\">\n",
       "      <th></th>\n",
       "      <th>concentration</th>\n",
       "      <th>p_unbound</th>\n",
       "      <th>c_hat</th>\n",
       "    </tr>\n",
       "  </thead>\n",
       "  <tbody>\n",
       "    <tr>\n",
       "      <th>0</th>\n",
       "      <td>0.000027</td>\n",
       "      <td>0.0298</td>\n",
       "      <td>3.090452</td>\n",
       "    </tr>\n",
       "    <tr>\n",
       "      <th>1</th>\n",
       "      <td>0.000024</td>\n",
       "      <td>0.0302</td>\n",
       "      <td>2.793513</td>\n",
       "    </tr>\n",
       "    <tr>\n",
       "      <th>2</th>\n",
       "      <td>0.000026</td>\n",
       "      <td>0.0327</td>\n",
       "      <td>2.980813</td>\n",
       "    </tr>\n",
       "    <tr>\n",
       "      <th>3</th>\n",
       "      <td>0.000025</td>\n",
       "      <td>0.0329</td>\n",
       "      <td>2.876884</td>\n",
       "    </tr>\n",
       "    <tr>\n",
       "      <th>4</th>\n",
       "      <td>0.000023</td>\n",
       "      <td>0.0416</td>\n",
       "      <td>2.585656</td>\n",
       "    </tr>\n",
       "  </tbody>\n",
       "</table>\n",
       "</div>\n",
       "      <button class=\"colab-df-convert\" onclick=\"convertToInteractive('df-79f2fba1-3cf5-4021-93d6-ba6e8594d34d')\"\n",
       "              title=\"Convert this dataframe to an interactive table.\"\n",
       "              style=\"display:none;\">\n",
       "        \n",
       "  <svg xmlns=\"http://www.w3.org/2000/svg\" height=\"24px\"viewBox=\"0 0 24 24\"\n",
       "       width=\"24px\">\n",
       "    <path d=\"M0 0h24v24H0V0z\" fill=\"none\"/>\n",
       "    <path d=\"M18.56 5.44l.94 2.06.94-2.06 2.06-.94-2.06-.94-.94-2.06-.94 2.06-2.06.94zm-11 1L8.5 8.5l.94-2.06 2.06-.94-2.06-.94L8.5 2.5l-.94 2.06-2.06.94zm10 10l.94 2.06.94-2.06 2.06-.94-2.06-.94-.94-2.06-.94 2.06-2.06.94z\"/><path d=\"M17.41 7.96l-1.37-1.37c-.4-.4-.92-.59-1.43-.59-.52 0-1.04.2-1.43.59L10.3 9.45l-7.72 7.72c-.78.78-.78 2.05 0 2.83L4 21.41c.39.39.9.59 1.41.59.51 0 1.02-.2 1.41-.59l7.78-7.78 2.81-2.81c.8-.78.8-2.07 0-2.86zM5.41 20L4 18.59l7.72-7.72 1.47 1.35L5.41 20z\"/>\n",
       "  </svg>\n",
       "      </button>\n",
       "      \n",
       "  <style>\n",
       "    .colab-df-container {\n",
       "      display:flex;\n",
       "      flex-wrap:wrap;\n",
       "      gap: 12px;\n",
       "    }\n",
       "\n",
       "    .colab-df-convert {\n",
       "      background-color: #E8F0FE;\n",
       "      border: none;\n",
       "      border-radius: 50%;\n",
       "      cursor: pointer;\n",
       "      display: none;\n",
       "      fill: #1967D2;\n",
       "      height: 32px;\n",
       "      padding: 0 0 0 0;\n",
       "      width: 32px;\n",
       "    }\n",
       "\n",
       "    .colab-df-convert:hover {\n",
       "      background-color: #E2EBFA;\n",
       "      box-shadow: 0px 1px 2px rgba(60, 64, 67, 0.3), 0px 1px 3px 1px rgba(60, 64, 67, 0.15);\n",
       "      fill: #174EA6;\n",
       "    }\n",
       "\n",
       "    [theme=dark] .colab-df-convert {\n",
       "      background-color: #3B4455;\n",
       "      fill: #D2E3FC;\n",
       "    }\n",
       "\n",
       "    [theme=dark] .colab-df-convert:hover {\n",
       "      background-color: #434B5C;\n",
       "      box-shadow: 0px 1px 3px 1px rgba(0, 0, 0, 0.15);\n",
       "      filter: drop-shadow(0px 1px 2px rgba(0, 0, 0, 0.3));\n",
       "      fill: #FFFFFF;\n",
       "    }\n",
       "  </style>\n",
       "\n",
       "      <script>\n",
       "        const buttonEl =\n",
       "          document.querySelector('#df-79f2fba1-3cf5-4021-93d6-ba6e8594d34d button.colab-df-convert');\n",
       "        buttonEl.style.display =\n",
       "          google.colab.kernel.accessAllowed ? 'block' : 'none';\n",
       "\n",
       "        async function convertToInteractive(key) {\n",
       "          const element = document.querySelector('#df-79f2fba1-3cf5-4021-93d6-ba6e8594d34d');\n",
       "          const dataTable =\n",
       "            await google.colab.kernel.invokeFunction('convertToInteractive',\n",
       "                                                     [key], {});\n",
       "          if (!dataTable) return;\n",
       "\n",
       "          const docLinkHtml = 'Like what you see? Visit the ' +\n",
       "            '<a target=\"_blank\" href=https://colab.research.google.com/notebooks/data_table.ipynb>data table notebook</a>'\n",
       "            + ' to learn more about interactive tables.';\n",
       "          element.innerHTML = '';\n",
       "          dataTable['output_type'] = 'display_data';\n",
       "          await google.colab.output.renderOutput(dataTable, element);\n",
       "          const docLink = document.createElement('div');\n",
       "          docLink.innerHTML = docLinkHtml;\n",
       "          element.appendChild(docLink);\n",
       "        }\n",
       "      </script>\n",
       "    </div>\n",
       "  </div>\n",
       "  "
      ],
      "text/plain": [
       "   concentration  p_unbound     c_hat\n",
       "0       0.000027     0.0298  3.090452\n",
       "1       0.000024     0.0302  2.793513\n",
       "2       0.000026     0.0327  2.980813\n",
       "3       0.000025     0.0329  2.876884\n",
       "4       0.000023     0.0416  2.585656"
      ]
     },
     "execution_count": 10,
     "metadata": {},
     "output_type": "execute_result"
    }
   ],
   "source": [
    "hg['c_hat'] = hg.concentration / k_d\n",
    "hg[:5]"
   ]
  },
  {
   "cell_type": "markdown",
   "metadata": {
    "id": "GC8tHLo89E5T"
   },
   "source": [
    "For $\\bar{c} >> 1$, the probability $P_{unbound} = (1 + \\bar{c}^n)^{-1} ≈ \\bar{c}^{-n}$, an we can extract the slope of the log-log graph as an approximation of n:"
   ]
  },
  {
   "cell_type": "code",
   "execution_count": null,
   "metadata": {
    "colab": {
     "base_uri": "https://localhost:8080/"
    },
    "id": "mFWu19WY9iaT",
    "outputId": "9c339402-e278-4f44-91e4-666d510ec569"
   },
   "outputs": [
    {
     "name": "stdout",
     "output_type": "stream",
     "text": [
      "n is approx  2.66\n"
     ]
    }
   ],
   "source": [
    "high_c = hg.c_hat > 2\n",
    "cov_log_data = np.cov(np.log(hg.c_hat)[high_c], np.log(hg.p_unbound)[high_c])\n",
    "slope = -cov_log_data[0, 1] / cov_log_data[0, 0]  # linear regression b=cov(x,y)/var(x)\n",
    "\n",
    "print(f'n is approx {slope: .2f}')"
   ]
  },
  {
   "cell_type": "markdown",
   "metadata": {
    "id": "ZZ-c89439qSt"
   },
   "source": [
    "Plotting the graph with these values we get:"
   ]
  },
  {
   "cell_type": "code",
   "execution_count": null,
   "metadata": {
    "colab": {
     "base_uri": "https://localhost:8080/"
    },
    "id": "bHrpRUCP-Fh4",
    "outputId": "1cf46ebe-155b-47a5-a019-87eebfb9bad5"
   },
   "outputs": [
    {
     "data": {
      "text/plain": [
       "0.5"
      ]
     },
     "execution_count": 12,
     "metadata": {},
     "output_type": "execute_result"
    }
   ],
   "source": [
    "def calc_p_unbound(x, k_d, n):\n",
    "    return (1 + (np.array(x) / k_d)**n)**(-1)\n",
    "\n",
    "calc_p_unbound(1., 1, 1)"
   ]
  },
  {
   "cell_type": "code",
   "execution_count": null,
   "metadata": {
    "colab": {
     "base_uri": "https://localhost:8080/",
     "height": 55
    },
    "id": "GITFmGMP92cA",
    "outputId": "24b4d018-9fe8-46db-c889-b11a6f451f72"
   },
   "outputs": [
    {
     "data": {
      "image/png": "[encoded data removed]",
      "text/plain": [
       "<Figure size 360x288 with 1 Axes>"
      ]
     },
     "metadata": {
      "needs_background": "light"
     },
     "output_type": "display_data"
    }
   ],
   "source": [
    "grid = np.linspace(0, xmax, 20)\n",
    "\n",
    "plt.subplots(figsize=(5,4))\n",
    "plt.scatter(hg.concentration, hg.p_unbound, facecolors='none', edgecolors='b', label='data')\n",
    "plt.plot(grid, calc_p_unbound(grid, k_d, slope), 'g--', label='slope approximation')\n",
    "\n",
    "plt.xlim(0, xmax)\n",
    "plt.xlabel('Concentration $c$ [$M$]')\n",
    "\n",
    "plt.ylim(0, ymax)\n",
    "plt.ylabel('$P_{unbound}$')\n",
    "\n",
    "plt.title('Oxygen Binding by Hemoglobin')\n",
    "plt.legend()\n",
    "\n",
    "plt.show()"
   ]
  },
  {
   "cell_type": "markdown",
   "metadata": {
    "id": "U5LMcZTG6kJy"
   },
   "source": [
    "Before moving to regression, we can improve our estimation by developing relation $P_{unbound} = (1 + \\bar{c}^n)^{-1}$ to extract $n$:\n",
    "\n",
    "$$\n",
    "P_{unbound} (1 + \\bar{c}^n) = 1\n",
    "\\\\\n",
    "P_{unbound} \\cdot \\bar{c}^n = 1 - P_{unbound}\n",
    "\\\\\n",
    "log(P_{unbound} \\cdot \\bar{c}^n) = log(1 - P_{unbound})\n",
    "\\\\\n",
    "n = \\frac{log(1 - P_{unbound}) - log(P_{unbound})}{log(\\bar{c})}\n",
    "$$"
   ]
  },
  {
   "cell_type": "code",
   "execution_count": null,
   "metadata": {
    "colab": {
     "base_uri": "https://localhost:8080/",
     "height": 55
    },
    "id": "xusE4Tb6XZ0I",
    "outputId": "65c137fd-501d-4266-9d59-745e057b80e9"
   },
   "outputs": [
    {
     "data": {
      "image/png": "[encoded data removed]",
      "text/plain": [
       "<Figure size 432x288 with 1 Axes>"
      ]
     },
     "metadata": {
      "needs_background": "light"
     },
     "output_type": "display_data"
    }
   ],
   "source": [
    "ns = (np.log(1 - hg.p_unbound) - np.log(hg.p_unbound)) / np.log(hg.c_hat)\n",
    "plt.hist(ns)\n",
    "plt.title('Extracted $n$ values')\n",
    "plt.show()"
   ]
  },
  {
   "cell_type": "markdown",
   "metadata": {
    "id": "YEu1QtUOBcHT"
   },
   "source": [
    "And plotting with an median of the calculated n:"
   ]
  },
  {
   "cell_type": "code",
   "execution_count": null,
   "metadata": {
    "colab": {
     "base_uri": "https://localhost:8080/",
     "height": 55
    },
    "id": "ucts5iqzBm2x",
    "outputId": "12820cfe-60a6-4540-e8b6-44e0dc9c0dc4"
   },
   "outputs": [
    {
     "data": {
      "image/png": "[encoded data removed]",
      "text/plain": [
       "<Figure size 360x288 with 1 Axes>"
      ]
     },
     "metadata": {
      "needs_background": "light"
     },
     "output_type": "display_data"
    }
   ],
   "source": [
    "grid = np.linspace(0, xmax, 20)\n",
    "\n",
    "plt.subplots(figsize=(5,4))\n",
    "plt.scatter(hg.concentration, hg.p_unbound, facecolors='none', edgecolors='b', label='data')\n",
    "plt.plot(grid, calc_p_unbound(grid, k_d, slope), 'g--', label=f'slope $n={slope: .2f}$')\n",
    "plt.plot(grid, calc_p_unbound(grid, k_d, ns.median()), 'k--', label=f'median extracted $n={ns.median(): .2f}$')\n",
    "\n",
    "plt.xlim(0, xmax)\n",
    "plt.xlabel('Concentration $c$ [$M$]')\n",
    "\n",
    "plt.ylim(0, ymax)\n",
    "plt.ylabel('$P_{unbound}$')\n",
    "\n",
    "plt.title('Oxygen Binding by Hemoglobin')\n",
    "plt.legend()\n",
    "\n",
    "plt.show()"
   ]
  },
  {
   "cell_type": "markdown",
   "metadata": {
    "id": "C5182WyMCw1l"
   },
   "source": [
    "### b) least square fitting\n",
    "\n",
    "For the least square fitting, we will write down the square distance loss and maximize it.\n",
    "$$\n",
    "R^2 = \\sum_i (P_i - (1 + (\\frac{c_i}{K_d})^n)^{-1})^2\n",
    "\\\\\n",
    "$$\n",
    "\n"
   ]
  },
  {
   "cell_type": "code",
   "execution_count": null,
   "metadata": {
    "colab": {
     "base_uri": "https://localhost:8080/"
    },
    "id": "6BoQcBQq4Voh",
    "outputId": "5aa61436-10ce-4cc3-9437-63535c078e9b"
   },
   "outputs": [
    {
     "name": "stdout",
     "output_type": "stream",
     "text": [
      "k_d= 8.76e-06, slope= 2.66, n_median= 3.18\n",
      "loss by slope =  3.58e-02\n",
      "loss by median n =  2.28e-03\n"
     ]
    }
   ],
   "source": [
    "def loss(param):\n",
    "    return hg.p_unbound - (1. + (hg.concentration / param[0])**param[1])**-1.\n",
    "\n",
    "param_0 = np.array([k_d, slope])\n",
    "print(f'k_d={k_d: .2e}, slope={slope: .2f}, n_median={ns.median(): .2f}')\n",
    "print(f'loss by slope = {np.sum(loss(param_0)**2): .2e}')\n",
    "print(f'loss by median n = {np.sum(loss((k_d, ns.median()))**2): .2e}')\n"
   ]
  },
  {
   "cell_type": "code",
   "execution_count": null,
   "metadata": {
    "colab": {
     "base_uri": "https://localhost:8080/"
    },
    "id": "8Ng68Ejr5PhI",
    "outputId": "4576ddf7-99ad-4abc-fcba-f5e02dbe3077"
   },
   "outputs": [
    {
     "name": "stdout",
     "output_type": "stream",
     "text": [
      "loss after optimization:  1.81e-03\n"
     ]
    }
   ],
   "source": [
    "res_1 = least_squares(loss, (k_d, slope), bounds=([0, 1], np.inf))\n",
    "print(f'loss after optimization: {np.sum(loss(res_1.x)**2): .2e}')\n"
   ]
  },
  {
   "cell_type": "code",
   "execution_count": null,
   "metadata": {
    "colab": {
     "base_uri": "https://localhost:8080/",
     "height": 55
    },
    "id": "Z8YebVtG5QR9",
    "outputId": "52f1b944-2972-4073-a1e9-48702cf0f6c4"
   },
   "outputs": [
    {
     "data": {
      "image/png": "[encoded data removed]",
      "text/plain": [
       "<Figure size 360x288 with 1 Axes>"
      ]
     },
     "metadata": {
      "needs_background": "light"
     },
     "output_type": "display_data"
    }
   ],
   "source": [
    "k_d_ls, n_ls = res_1.x\n",
    "\n",
    "grid = np.linspace(0, xmax, 20)\n",
    "\n",
    "plt.subplots(figsize=(5,4))\n",
    "plt.scatter(hg.concentration, hg.p_unbound, facecolors='none', edgecolors='b', label='data')\n",
    "plt.plot(grid, calc_p_unbound(grid, k_d, slope), 'g--', label=f'slope $n={slope: .2f}$')\n",
    "plt.plot(grid, calc_p_unbound(grid, k_d, ns.median()), 'k--', label=f'median extracted $n={ns.median(): .2f}$')\n",
    "plt.plot(grid, calc_p_unbound(grid, k_d_ls, n_ls), 'r--', label=f'LS solution $K_d={k_d_ls: .2e}$, $n={n_ls: .2f}$')\n",
    "\n",
    "# plt.xlim(0, xmax)\n",
    "plt.xlabel('Concentration $c$ [$M$]')\n",
    "\n",
    "# plt.ylim(0, ymax)\n",
    "plt.ylabel('$P_{unbound}$')\n",
    "\n",
    "plt.title('Oxygen Binding by Hemoglobin')\n",
    "plt.legend()\n",
    "\n",
    "plt.show()"
   ]
  },
  {
   "cell_type": "markdown",
   "metadata": {
    "id": "vILZSyj_SYvi"
   },
   "source": [
    "# Q12.4 Novick-Weiner data\n"
   ]
  },
  {
   "cell_type": "markdown",
   "metadata": {
    "id": "8lKcWhKiBeIf"
   },
   "source": [
    "### Obtaining the data\n",
    "Two datasets - high (`nwh`) and moderate (`nwm`) inducer levels"
   ]
  },
  {
   "cell_type": "code",
   "execution_count": null,
   "metadata": {
    "colab": {
     "base_uri": "https://localhost:8080/",
     "height": 151
    },
    "id": "c20Zn35CAt7L",
    "outputId": "a65d3ee1-21d3-4a99-fdd5-d75d7174c7b8"
   },
   "outputs": [
    {
     "name": "stdout",
     "output_type": "stream",
     "text": [
      "high inducer level data\n"
     ]
    },
    {
     "data": {
      "text/html": [
       "\n",
       "  <div id=\"df-ba3c4e4f-2607-4ee6-8740-4893cf520cdb\">\n",
       "    <div class=\"colab-df-container\">\n",
       "      <div>\n",
       "<style scoped>\n",
       "    .dataframe tbody tr th:only-of-type {\n",
       "        vertical-align: middle;\n",
       "    }\n",
       "\n",
       "    .dataframe tbody tr th {\n",
       "        vertical-align: top;\n",
       "    }\n",
       "\n",
       "    .dataframe thead th {\n",
       "        text-align: right;\n",
       "    }\n",
       "</style>\n",
       "<table border=\"1\" class=\"dataframe\">\n",
       "  <thead>\n",
       "    <tr style=\"text-align: right;\">\n",
       "      <th></th>\n",
       "      <th>0</th>\n",
       "      <th>1</th>\n",
       "      <th>2</th>\n",
       "      <th>3</th>\n",
       "      <th>4</th>\n",
       "      <th>5</th>\n",
       "      <th>6</th>\n",
       "      <th>7</th>\n",
       "      <th>8</th>\n",
       "      <th>9</th>\n",
       "      <th>10</th>\n",
       "      <th>11</th>\n",
       "      <th>12</th>\n",
       "      <th>13</th>\n",
       "      <th>14</th>\n",
       "      <th>15</th>\n",
       "      <th>16</th>\n",
       "      <th>17</th>\n",
       "    </tr>\n",
       "  </thead>\n",
       "  <tbody>\n",
       "    <tr>\n",
       "      <th>time</th>\n",
       "      <td>0.1699</td>\n",
       "      <td>0.4426</td>\n",
       "      <td>0.5111</td>\n",
       "      <td>0.7156</td>\n",
       "      <td>1.0564</td>\n",
       "      <td>1.2041</td>\n",
       "      <td>1.4311</td>\n",
       "      <td>1.6465</td>\n",
       "      <td>1.8283</td>\n",
       "      <td>2.1119</td>\n",
       "      <td>2.4182</td>\n",
       "      <td>2.9970</td>\n",
       "      <td>3.6763</td>\n",
       "      <td>4.2308</td>\n",
       "      <td>4.8316</td>\n",
       "      <td>5.4070</td>\n",
       "      <td>6.0646</td>\n",
       "      <td>6.6638</td>\n",
       "    </tr>\n",
       "    <tr>\n",
       "      <th>fraction</th>\n",
       "      <td>0.0190</td>\n",
       "      <td>0.0855</td>\n",
       "      <td>0.1164</td>\n",
       "      <td>0.1639</td>\n",
       "      <td>0.2470</td>\n",
       "      <td>0.2803</td>\n",
       "      <td>0.3278</td>\n",
       "      <td>0.3563</td>\n",
       "      <td>0.4038</td>\n",
       "      <td>0.4537</td>\n",
       "      <td>0.5059</td>\n",
       "      <td>0.6152</td>\n",
       "      <td>0.6746</td>\n",
       "      <td>0.7126</td>\n",
       "      <td>0.7981</td>\n",
       "      <td>0.7601</td>\n",
       "      <td>0.8599</td>\n",
       "      <td>0.8741</td>\n",
       "    </tr>\n",
       "  </tbody>\n",
       "</table>\n",
       "</div>\n",
       "      <button class=\"colab-df-convert\" onclick=\"convertToInteractive('df-ba3c4e4f-2607-4ee6-8740-4893cf520cdb')\"\n",
       "              title=\"Convert this dataframe to an interactive table.\"\n",
       "              style=\"display:none;\">\n",
       "        \n",
       "  <svg xmlns=\"http://www.w3.org/2000/svg\" height=\"24px\"viewBox=\"0 0 24 24\"\n",
       "       width=\"24px\">\n",
       "    <path d=\"M0 0h24v24H0V0z\" fill=\"none\"/>\n",
       "    <path d=\"M18.56 5.44l.94 2.06.94-2.06 2.06-.94-2.06-.94-.94-2.06-.94 2.06-2.06.94zm-11 1L8.5 8.5l.94-2.06 2.06-.94-2.06-.94L8.5 2.5l-.94 2.06-2.06.94zm10 10l.94 2.06.94-2.06 2.06-.94-2.06-.94-.94-2.06-.94 2.06-2.06.94z\"/><path d=\"M17.41 7.96l-1.37-1.37c-.4-.4-.92-.59-1.43-.59-.52 0-1.04.2-1.43.59L10.3 9.45l-7.72 7.72c-.78.78-.78 2.05 0 2.83L4 21.41c.39.39.9.59 1.41.59.51 0 1.02-.2 1.41-.59l7.78-7.78 2.81-2.81c.8-.78.8-2.07 0-2.86zM5.41 20L4 18.59l7.72-7.72 1.47 1.35L5.41 20z\"/>\n",
       "  </svg>\n",
       "      </button>\n",
       "      \n",
       "  <style>\n",
       "    .colab-df-container {\n",
       "      display:flex;\n",
       "      flex-wrap:wrap;\n",
       "      gap: 12px;\n",
       "    }\n",
       "\n",
       "    .colab-df-convert {\n",
       "      background-color: #E8F0FE;\n",
       "      border: none;\n",
       "      border-radius: 50%;\n",
       "      cursor: pointer;\n",
       "      display: none;\n",
       "      fill: #1967D2;\n",
       "      height: 32px;\n",
       "      padding: 0 0 0 0;\n",
       "      width: 32px;\n",
       "    }\n",
       "\n",
       "    .colab-df-convert:hover {\n",
       "      background-color: #E2EBFA;\n",
       "      box-shadow: 0px 1px 2px rgba(60, 64, 67, 0.3), 0px 1px 3px 1px rgba(60, 64, 67, 0.15);\n",
       "      fill: #174EA6;\n",
       "    }\n",
       "\n",
       "    [theme=dark] .colab-df-convert {\n",
       "      background-color: #3B4455;\n",
       "      fill: #D2E3FC;\n",
       "    }\n",
       "\n",
       "    [theme=dark] .colab-df-convert:hover {\n",
       "      background-color: #434B5C;\n",
       "      box-shadow: 0px 1px 3px 1px rgba(0, 0, 0, 0.15);\n",
       "      filter: drop-shadow(0px 1px 2px rgba(0, 0, 0, 0.3));\n",
       "      fill: #FFFFFF;\n",
       "    }\n",
       "  </style>\n",
       "\n",
       "      <script>\n",
       "        const buttonEl =\n",
       "          document.querySelector('#df-ba3c4e4f-2607-4ee6-8740-4893cf520cdb button.colab-df-convert');\n",
       "        buttonEl.style.display =\n",
       "          google.colab.kernel.accessAllowed ? 'block' : 'none';\n",
       "\n",
       "        async function convertToInteractive(key) {\n",
       "          const element = document.querySelector('#df-ba3c4e4f-2607-4ee6-8740-4893cf520cdb');\n",
       "          const dataTable =\n",
       "            await google.colab.kernel.invokeFunction('convertToInteractive',\n",
       "                                                     [key], {});\n",
       "          if (!dataTable) return;\n",
       "\n",
       "          const docLinkHtml = 'Like what you see? Visit the ' +\n",
       "            '<a target=\"_blank\" href=https://colab.research.google.com/notebooks/data_table.ipynb>data table notebook</a>'\n",
       "            + ' to learn more about interactive tables.';\n",
       "          element.innerHTML = '';\n",
       "          dataTable['output_type'] = 'display_data';\n",
       "          await google.colab.output.renderOutput(dataTable, element);\n",
       "          const docLink = document.createElement('div');\n",
       "          docLink.innerHTML = docLinkHtml;\n",
       "          element.appendChild(docLink);\n",
       "        }\n",
       "      </script>\n",
       "    </div>\n",
       "  </div>\n",
       "  "
      ],
      "text/plain": [
       "              0       1       2       3       4       5       6       7   \\\n",
       "time      0.1699  0.4426  0.5111  0.7156  1.0564  1.2041  1.4311  1.6465   \n",
       "fraction  0.0190  0.0855  0.1164  0.1639  0.2470  0.2803  0.3278  0.3563   \n",
       "\n",
       "              8       9       10      11      12      13      14      15  \\\n",
       "time      1.8283  2.1119  2.4182  2.9970  3.6763  4.2308  4.8316  5.4070   \n",
       "fraction  0.4038  0.4537  0.5059  0.6152  0.6746  0.7126  0.7981  0.7601   \n",
       "\n",
       "              16      17  \n",
       "time      6.0646  6.6638  \n",
       "fraction  0.8599  0.8741  "
      ]
     },
     "execution_count": 19,
     "metadata": {},
     "output_type": "execute_result"
    }
   ],
   "source": [
    "url_files = 'http://www.physics.upenn.edu/biophys/PMLS2e/Datasets/Novick/g149novick{}.txt'\n",
    "nwh = pd.read_csv(url_files.format('A'), header=None, names=('time', 'fraction'))\n",
    "nwm = pd.read_csv(url_files.format('B'), header=None, names=('time', 'fraction'))\n",
    "\n",
    "print('high inducer level data')\n",
    "nwh.T\n"
   ]
  },
  {
   "cell_type": "markdown",
   "metadata": {
    "id": "LzEPRT4Ih148"
   },
   "source": [
    "### a) high induction level data"
   ]
  },
  {
   "cell_type": "code",
   "execution_count": null,
   "metadata": {
    "colab": {
     "base_uri": "https://localhost:8080/",
     "height": 55
    },
    "id": "11QSjYyPDPeK",
    "outputId": "ad6cb275-b1ae-4bae-b84c-b67b7bb08d49"
   },
   "outputs": [
    {
     "data": {
      "image/png": "[encoded data removed]",
      "text/plain": [
       "<Figure size 432x288 with 1 Axes>"
      ]
     },
     "metadata": {
      "needs_background": "light"
     },
     "output_type": "display_data"
    }
   ],
   "source": [
    "max_t = 7\n",
    "tau_guess = 3\n",
    "\n",
    "grid = np.linspace(0, max_t, 50)\n",
    "\n",
    "g = sns.scatterplot(x='time', y='fraction', data=nwh, label='data')\n",
    "sns.lineplot(x=grid, y=(1 - np.exp(-grid / tau_guess)), label=r'$1 - exp(-t / 3)$')\n",
    "\n",
    "g.set(xlim=(0, max_t), ylim=(0, 1),\n",
    "      xlabel='time $[hours]$', ylabel='fraction of maximal β-gal $[a.u.]$',\n",
    "      title='Novick and Weiner’s high inducer data on induction in E. coli.\\n')\n",
    "\n",
    "plt.show()"
   ]
  },
  {
   "cell_type": "code",
   "execution_count": null,
   "metadata": {
    "colab": {
     "base_uri": "https://localhost:8080/",
     "height": 55
    },
    "id": "XIq6H7RHajTl",
    "outputId": "0ae731aa-bbed-4864-feb1-72dfb2747f9f"
   },
   "outputs": [
    {
     "data": {
      "image/png": "[encoded data removed]",
      "text/plain": [
       "<Figure size 432x288 with 1 Axes>"
      ]
     },
     "metadata": {
      "needs_background": "light"
     },
     "output_type": "display_data"
    }
   ],
   "source": [
    "nwh['ln_1_minus_frac'] = np.log(1 - nwh.fraction)\n",
    "\n",
    "g = sns.scatterplot(x='time', y='ln_1_minus_frac', data=nwh, label='$ln(1 - Z(t)/Z_{max})')\n",
    "for guess in [3.0, 3.1, 3.2, 3.3]:\n",
    "  sns.lineplot(x=grid, y=(-grid / guess), label=fr'$-t / {guess}$')\n",
    "\n",
    "g.set(xlabel='time $[hours]$', ylabel='$ln(1 - Z(t)/Z_{max})\\ [a.u.]$',\n",
    "      title='Novick and Weiner’s high inducer data transformed')\n",
    "\n",
    "plt.grid()\n",
    "plt.show()\n"
   ]
  },
  {
   "cell_type": "markdown",
   "metadata": {
    "id": "nOGx1GQShs5Z"
   },
   "source": [
    "### b) moderate induction level data\n",
    "my first guess for $z_0$ will be the mean of the fraction"
   ]
  },
  {
   "cell_type": "code",
   "execution_count": null,
   "metadata": {
    "colab": {
     "base_uri": "https://localhost:8080/",
     "height": 195
    },
    "id": "ESOnBNGpbBUU",
    "outputId": "05fe64a8-470a-447d-ea01-062eaf969520"
   },
   "outputs": [
    {
     "name": "stdout",
     "output_type": "stream",
     "text": [
      "moderate inducer level data\n"
     ]
    },
    {
     "data": {
      "text/html": [
       "\n",
       "  <div id=\"df-1959ba93-d41d-4ad9-8a90-2b5672c462a5\">\n",
       "    <div class=\"colab-df-container\">\n",
       "      <div>\n",
       "<style scoped>\n",
       "    .dataframe tbody tr th:only-of-type {\n",
       "        vertical-align: middle;\n",
       "    }\n",
       "\n",
       "    .dataframe tbody tr th {\n",
       "        vertical-align: top;\n",
       "    }\n",
       "\n",
       "    .dataframe thead th {\n",
       "        text-align: right;\n",
       "    }\n",
       "</style>\n",
       "<table border=\"1\" class=\"dataframe\">\n",
       "  <thead>\n",
       "    <tr style=\"text-align: right;\">\n",
       "      <th></th>\n",
       "      <th>0</th>\n",
       "      <th>1</th>\n",
       "      <th>2</th>\n",
       "      <th>3</th>\n",
       "      <th>4</th>\n",
       "      <th>5</th>\n",
       "      <th>6</th>\n",
       "      <th>7</th>\n",
       "      <th>8</th>\n",
       "      <th>9</th>\n",
       "      <th>10</th>\n",
       "      <th>11</th>\n",
       "      <th>12</th>\n",
       "      <th>13</th>\n",
       "      <th>14</th>\n",
       "      <th>15</th>\n",
       "      <th>16</th>\n",
       "      <th>17</th>\n",
       "      <th>18</th>\n",
       "      <th>19</th>\n",
       "    </tr>\n",
       "  </thead>\n",
       "  <tbody>\n",
       "    <tr>\n",
       "      <th>time</th>\n",
       "      <td>0.076800</td>\n",
       "      <td>1.061400</td>\n",
       "      <td>1.566900</td>\n",
       "      <td>2.072100</td>\n",
       "      <td>2.37570</td>\n",
       "      <td>2.72970</td>\n",
       "      <td>3.0585</td>\n",
       "      <td>3.56400</td>\n",
       "      <td>4.05780</td>\n",
       "      <td>4.53870</td>\n",
       "      <td>5.04510</td>\n",
       "      <td>5.51340</td>\n",
       "      <td>6.50130</td>\n",
       "      <td>7.50210</td>\n",
       "      <td>8.5047</td>\n",
       "      <td>9.6681</td>\n",
       "      <td>10.8207</td>\n",
       "      <td>12.0003</td>\n",
       "      <td>13.1667</td>\n",
       "      <td>14.091</td>\n",
       "    </tr>\n",
       "    <tr>\n",
       "      <th>fraction</th>\n",
       "      <td>0.000501</td>\n",
       "      <td>0.000595</td>\n",
       "      <td>0.000714</td>\n",
       "      <td>0.000856</td>\n",
       "      <td>0.00102</td>\n",
       "      <td>0.00121</td>\n",
       "      <td>0.0015</td>\n",
       "      <td>0.00174</td>\n",
       "      <td>0.00257</td>\n",
       "      <td>0.00312</td>\n",
       "      <td>0.00379</td>\n",
       "      <td>0.00448</td>\n",
       "      <td>0.00603</td>\n",
       "      <td>0.00782</td>\n",
       "      <td>0.0105</td>\n",
       "      <td>0.0116</td>\n",
       "      <td>0.0133</td>\n",
       "      <td>0.0162</td>\n",
       "      <td>0.0188</td>\n",
       "      <td>0.020</td>\n",
       "    </tr>\n",
       "  </tbody>\n",
       "</table>\n",
       "</div>\n",
       "      <button class=\"colab-df-convert\" onclick=\"convertToInteractive('df-1959ba93-d41d-4ad9-8a90-2b5672c462a5')\"\n",
       "              title=\"Convert this dataframe to an interactive table.\"\n",
       "              style=\"display:none;\">\n",
       "        \n",
       "  <svg xmlns=\"http://www.w3.org/2000/svg\" height=\"24px\"viewBox=\"0 0 24 24\"\n",
       "       width=\"24px\">\n",
       "    <path d=\"M0 0h24v24H0V0z\" fill=\"none\"/>\n",
       "    <path d=\"M18.56 5.44l.94 2.06.94-2.06 2.06-.94-2.06-.94-.94-2.06-.94 2.06-2.06.94zm-11 1L8.5 8.5l.94-2.06 2.06-.94-2.06-.94L8.5 2.5l-.94 2.06-2.06.94zm10 10l.94 2.06.94-2.06 2.06-.94-2.06-.94-.94-2.06-.94 2.06-2.06.94z\"/><path d=\"M17.41 7.96l-1.37-1.37c-.4-.4-.92-.59-1.43-.59-.52 0-1.04.2-1.43.59L10.3 9.45l-7.72 7.72c-.78.78-.78 2.05 0 2.83L4 21.41c.39.39.9.59 1.41.59.51 0 1.02-.2 1.41-.59l7.78-7.78 2.81-2.81c.8-.78.8-2.07 0-2.86zM5.41 20L4 18.59l7.72-7.72 1.47 1.35L5.41 20z\"/>\n",
       "  </svg>\n",
       "      </button>\n",
       "      \n",
       "  <style>\n",
       "    .colab-df-container {\n",
       "      display:flex;\n",
       "      flex-wrap:wrap;\n",
       "      gap: 12px;\n",
       "    }\n",
       "\n",
       "    .colab-df-convert {\n",
       "      background-color: #E8F0FE;\n",
       "      border: none;\n",
       "      border-radius: 50%;\n",
       "      cursor: pointer;\n",
       "      display: none;\n",
       "      fill: #1967D2;\n",
       "      height: 32px;\n",
       "      padding: 0 0 0 0;\n",
       "      width: 32px;\n",
       "    }\n",
       "\n",
       "    .colab-df-convert:hover {\n",
       "      background-color: #E2EBFA;\n",
       "      box-shadow: 0px 1px 2px rgba(60, 64, 67, 0.3), 0px 1px 3px 1px rgba(60, 64, 67, 0.15);\n",
       "      fill: #174EA6;\n",
       "    }\n",
       "\n",
       "    [theme=dark] .colab-df-convert {\n",
       "      background-color: #3B4455;\n",
       "      fill: #D2E3FC;\n",
       "    }\n",
       "\n",
       "    [theme=dark] .colab-df-convert:hover {\n",
       "      background-color: #434B5C;\n",
       "      box-shadow: 0px 1px 3px 1px rgba(0, 0, 0, 0.15);\n",
       "      filter: drop-shadow(0px 1px 2px rgba(0, 0, 0, 0.3));\n",
       "      fill: #FFFFFF;\n",
       "    }\n",
       "  </style>\n",
       "\n",
       "      <script>\n",
       "        const buttonEl =\n",
       "          document.querySelector('#df-1959ba93-d41d-4ad9-8a90-2b5672c462a5 button.colab-df-convert');\n",
       "        buttonEl.style.display =\n",
       "          google.colab.kernel.accessAllowed ? 'block' : 'none';\n",
       "\n",
       "        async function convertToInteractive(key) {\n",
       "          const element = document.querySelector('#df-1959ba93-d41d-4ad9-8a90-2b5672c462a5');\n",
       "          const dataTable =\n",
       "            await google.colab.kernel.invokeFunction('convertToInteractive',\n",
       "                                                     [key], {});\n",
       "          if (!dataTable) return;\n",
       "\n",
       "          const docLinkHtml = 'Like what you see? Visit the ' +\n",
       "            '<a target=\"_blank\" href=https://colab.research.google.com/notebooks/data_table.ipynb>data table notebook</a>'\n",
       "            + ' to learn more about interactive tables.';\n",
       "          element.innerHTML = '';\n",
       "          dataTable['output_type'] = 'display_data';\n",
       "          await google.colab.output.renderOutput(dataTable, element);\n",
       "          const docLink = document.createElement('div');\n",
       "          docLink.innerHTML = docLinkHtml;\n",
       "          element.appendChild(docLink);\n",
       "        }\n",
       "      </script>\n",
       "    </div>\n",
       "  </div>\n",
       "  "
      ],
      "text/plain": [
       "                0         1         2         3        4        5       6   \\\n",
       "time      0.076800  1.061400  1.566900  2.072100  2.37570  2.72970  3.0585   \n",
       "fraction  0.000501  0.000595  0.000714  0.000856  0.00102  0.00121  0.0015   \n",
       "\n",
       "               7        8        9        10       11       12       13  \\\n",
       "time      3.56400  4.05780  4.53870  5.04510  5.51340  6.50130  7.50210   \n",
       "fraction  0.00174  0.00257  0.00312  0.00379  0.00448  0.00603  0.00782   \n",
       "\n",
       "              14      15       16       17       18      19  \n",
       "time      8.5047  9.6681  10.8207  12.0003  13.1667  14.091  \n",
       "fraction  0.0105  0.0116   0.0133   0.0162   0.0188   0.020  "
      ]
     },
     "execution_count": 22,
     "metadata": {},
     "output_type": "execute_result"
    }
   ],
   "source": [
    "print('moderate inducer level data')\n",
    "nwm.T"
   ]
  },
  {
   "cell_type": "code",
   "execution_count": null,
   "metadata": {
    "colab": {
     "base_uri": "https://localhost:8080/",
     "height": 55
    },
    "id": "gDDzIxIrdVm6",
    "outputId": "c148c30d-f327-4ee0-ccb4-123706571f06"
   },
   "outputs": [
    {
     "data": {
      "image/png": "[encoded data removed]",
      "text/plain": [
       "<Figure size 432x288 with 1 Axes>"
      ]
     },
     "metadata": {
      "needs_background": "light"
     },
     "output_type": "display_data"
    }
   ],
   "source": [
    "max_t = 15\n",
    "tau_guess = 3.2\n",
    "z0_guess = nwm.fraction.mean()\n",
    "\n",
    "grid = np.linspace(0, max_t, 50)\n",
    "\n",
    "g = sns.scatterplot(x='time', y='fraction', data=nwm, label='data')\n",
    "sns.lineplot(x=grid,\n",
    "             y=(z0_guess * (-1 + (grid / tau_guess) + np.exp(-grid / tau_guess))),\n",
    "             label=r'$z_0(-1 + t / \\tau + exp(-t / \\tau)),\\ z_0 = %.4f$' % z0_guess)\n",
    "\n",
    "sns.lineplot(x=grid, y=(-z0_guess + z0_guess * grid / tau_guess),\n",
    "             label=fr'$y={z0_guess: .4f} + {z0_guess: .4f} * t / \\tau$')\n",
    "\n",
    "g.set(xlim=(0, max_t), ylim=(0, 0.025),\n",
    "      xlabel='time $[hours]$', ylabel='fraction of maximal β-gal $[a.u.]$',\n",
    "      title='Novick and Weiner’s data on moderate induction')\n",
    "\n",
    "plt.legend()\n",
    "plt.show()"
   ]
  },
  {
   "cell_type": "markdown",
   "metadata": {
    "id": "KTbHjYwaiDwD"
   },
   "source": [
    "Improving the result using fitting of the data in $10 \\leq t \\leq 15$.\n",
    "\n",
    "We expect the fraction there to be equal approximately to $-z_0 + z_0 * t / \\tau$"
   ]
  },
  {
   "cell_type": "code",
   "execution_count": null,
   "metadata": {
    "id": "AcerWGhHiCiu"
   },
   "outputs": [],
   "source": [
    "def lin_func(x, tau=3.2):\n",
    "    indices = (nwm.time >= 10) & (nwm.time <= 15)\n",
    "    return nwm[indices].fraction - (-x[0] + x[0] * nwm[indices].time / tau)\n"
   ]
  },
  {
   "cell_type": "code",
   "execution_count": null,
   "metadata": {
    "colab": {
     "base_uri": "https://localhost:8080/",
     "height": 55
    },
    "id": "4u4XVBuqjOOy",
    "outputId": "d26f1711-3a3d-494b-dd07-610e460c707a"
   },
   "outputs": [
    {
     "data": {
      "image/png": "[encoded data removed]",
      "text/plain": [
       "<Figure size 432x288 with 1 Axes>"
      ]
     },
     "metadata": {
      "needs_background": "light"
     },
     "output_type": "display_data"
    }
   ],
   "source": [
    "z0_fit = least_squares(lin_func, z0_guess).x[0]\n",
    "\n",
    "z0_guess = z0_fit\n",
    "\n",
    "grid = np.linspace(0, max_t, 50)\n",
    "\n",
    "g = sns.scatterplot(x='time', y='fraction', data=nwm, label='data')\n",
    "sns.lineplot(x=grid,\n",
    "             y=(z0_guess * (-1 + (grid / tau_guess) + np.exp(-grid / tau_guess))),\n",
    "             label=r'$z_0(-1 + t / \\tau + exp(-t / \\tau)),\\ z_0 = %.4f$' % z0_guess)\n",
    "\n",
    "sns.lineplot(x=grid, y=(-z0_guess + z0_guess * grid / tau_guess),\n",
    "             label=fr'$y={z0_guess: .4f} + {z0_guess: .4f} * t / \\tau$')\n",
    "\n",
    "g.set(xlim=(0, max_t), ylim=(0, 0.025),\n",
    "      xlabel='time $[hours]$', ylabel='fraction of maximal β-gal $[a.u.]$',\n",
    "      title='Novick and Weiner’s data on moderate induction')\n",
    "\n",
    "plt.legend()\n",
    "plt.show()"
   ]
  },
  {
   "cell_type": "markdown",
   "metadata": {
    "id": "NrHIcXGikgt2"
   },
   "source": [
    "# Q12.8 - SIR model time course\n"
   ]
  },
  {
   "cell_type": "markdown",
   "metadata": {
    "id": "RfvyZhQE5mZz"
   },
   "source": [
    "### a) time course\n",
    "Equation 12.7 states:\n",
    "$$ \\frac{ds}{d\\bar{t}}=-R_0is;\\ \\frac{di}{d\\bar{t}}=(R_0s - 1)i;\\ i+s \\leq 1$$\n",
    "\n",
    "\n",
    "Parameter values: $R_0=2.5,\\ \\gamma=1/(20\\ \\text{day})$\n",
    "\n",
    "Initial values: $s(0)=0.99,\\ i(0)=0.01$\n",
    "\n",
    "To evaluate $T=40$ weeks in dimensionless time (scaled by $\\gamma$) we will need a total scaled time of $\\bar{T} = T * 7 * 1/20 = 14$\n"
   ]
  },
  {
   "cell_type": "code",
   "execution_count": null,
   "metadata": {
    "id": "004r7s0Ej5u9"
   },
   "outputs": [],
   "source": [
    "R_knot = 2.5\n",
    "gamma = 1 / 20  # days\n",
    "s0, i0 = 0.99, 0.01\n",
    "T = 40  # weeks\n",
    "T_bar = 40 * 7 * gamma\n",
    "\n",
    "dt = 0.05\n",
    "total_steps = int(T_bar / dt) + 1\n",
    "t_bar = np.linspace(0, T_bar, total_steps)\n",
    "\n",
    "def calc_ds_di(s, i):\n",
    "  return np.array([[-R_knot * i * s, i * (R_knot * s - 1)]])\n"
   ]
  },
  {
   "cell_type": "code",
   "execution_count": null,
   "metadata": {
    "colab": {
     "base_uri": "https://localhost:8080/",
     "height": 447
    },
    "id": "HVotOXb2yQm1",
    "outputId": "cac03d9a-efff-4374-e8b0-b8f200b3533e"
   },
   "outputs": [
    {
     "data": {
      "text/html": [
       "\n",
       "  <div id=\"df-43e0592b-363b-4fd0-b308-b79d17e6fd13\">\n",
       "    <div class=\"colab-df-container\">\n",
       "      <div>\n",
       "<style scoped>\n",
       "    .dataframe tbody tr th:only-of-type {\n",
       "        vertical-align: middle;\n",
       "    }\n",
       "\n",
       "    .dataframe tbody tr th {\n",
       "        vertical-align: top;\n",
       "    }\n",
       "\n",
       "    .dataframe thead th {\n",
       "        text-align: right;\n",
       "    }\n",
       "</style>\n",
       "<table border=\"1\" class=\"dataframe\">\n",
       "  <thead>\n",
       "    <tr style=\"text-align: right;\">\n",
       "      <th></th>\n",
       "      <th>s</th>\n",
       "      <th>i</th>\n",
       "      <th>t_bar</th>\n",
       "      <th>days</th>\n",
       "      <th>weeks</th>\n",
       "    </tr>\n",
       "  </thead>\n",
       "  <tbody>\n",
       "    <tr>\n",
       "      <th>0</th>\n",
       "      <td>0.990000</td>\n",
       "      <td>0.010000</td>\n",
       "      <td>0.00</td>\n",
       "      <td>0.0</td>\n",
       "      <td>0.000000</td>\n",
       "    </tr>\n",
       "    <tr>\n",
       "      <th>1</th>\n",
       "      <td>0.988762</td>\n",
       "      <td>0.010738</td>\n",
       "      <td>0.05</td>\n",
       "      <td>1.0</td>\n",
       "      <td>0.142857</td>\n",
       "    </tr>\n",
       "    <tr>\n",
       "      <th>2</th>\n",
       "      <td>0.987435</td>\n",
       "      <td>0.011528</td>\n",
       "      <td>0.10</td>\n",
       "      <td>2.0</td>\n",
       "      <td>0.285714</td>\n",
       "    </tr>\n",
       "    <tr>\n",
       "      <th>3</th>\n",
       "      <td>0.986013</td>\n",
       "      <td>0.012374</td>\n",
       "      <td>0.15</td>\n",
       "      <td>3.0</td>\n",
       "      <td>0.428571</td>\n",
       "    </tr>\n",
       "    <tr>\n",
       "      <th>4</th>\n",
       "      <td>0.984487</td>\n",
       "      <td>0.013281</td>\n",
       "      <td>0.20</td>\n",
       "      <td>4.0</td>\n",
       "      <td>0.571429</td>\n",
       "    </tr>\n",
       "    <tr>\n",
       "      <th>...</th>\n",
       "      <td>...</td>\n",
       "      <td>...</td>\n",
       "      <td>...</td>\n",
       "      <td>...</td>\n",
       "      <td>...</td>\n",
       "    </tr>\n",
       "    <tr>\n",
       "      <th>276</th>\n",
       "      <td>0.102758</td>\n",
       "      <td>0.000218</td>\n",
       "      <td>13.80</td>\n",
       "      <td>276.0</td>\n",
       "      <td>39.428571</td>\n",
       "    </tr>\n",
       "    <tr>\n",
       "      <th>277</th>\n",
       "      <td>0.102755</td>\n",
       "      <td>0.000209</td>\n",
       "      <td>13.85</td>\n",
       "      <td>277.0</td>\n",
       "      <td>39.571429</td>\n",
       "    </tr>\n",
       "    <tr>\n",
       "      <th>278</th>\n",
       "      <td>0.102752</td>\n",
       "      <td>0.000202</td>\n",
       "      <td>13.90</td>\n",
       "      <td>278.0</td>\n",
       "      <td>39.714286</td>\n",
       "    </tr>\n",
       "    <tr>\n",
       "      <th>279</th>\n",
       "      <td>0.102750</td>\n",
       "      <td>0.000194</td>\n",
       "      <td>13.95</td>\n",
       "      <td>279.0</td>\n",
       "      <td>39.857143</td>\n",
       "    </tr>\n",
       "    <tr>\n",
       "      <th>280</th>\n",
       "      <td>0.102747</td>\n",
       "      <td>0.000187</td>\n",
       "      <td>14.00</td>\n",
       "      <td>280.0</td>\n",
       "      <td>40.000000</td>\n",
       "    </tr>\n",
       "  </tbody>\n",
       "</table>\n",
       "<p>281 rows × 5 columns</p>\n",
       "</div>\n",
       "      <button class=\"colab-df-convert\" onclick=\"convertToInteractive('df-43e0592b-363b-4fd0-b308-b79d17e6fd13')\"\n",
       "              title=\"Convert this dataframe to an interactive table.\"\n",
       "              style=\"display:none;\">\n",
       "        \n",
       "  <svg xmlns=\"http://www.w3.org/2000/svg\" height=\"24px\"viewBox=\"0 0 24 24\"\n",
       "       width=\"24px\">\n",
       "    <path d=\"M0 0h24v24H0V0z\" fill=\"none\"/>\n",
       "    <path d=\"M18.56 5.44l.94 2.06.94-2.06 2.06-.94-2.06-.94-.94-2.06-.94 2.06-2.06.94zm-11 1L8.5 8.5l.94-2.06 2.06-.94-2.06-.94L8.5 2.5l-.94 2.06-2.06.94zm10 10l.94 2.06.94-2.06 2.06-.94-2.06-.94-.94-2.06-.94 2.06-2.06.94z\"/><path d=\"M17.41 7.96l-1.37-1.37c-.4-.4-.92-.59-1.43-.59-.52 0-1.04.2-1.43.59L10.3 9.45l-7.72 7.72c-.78.78-.78 2.05 0 2.83L4 21.41c.39.39.9.59 1.41.59.51 0 1.02-.2 1.41-.59l7.78-7.78 2.81-2.81c.8-.78.8-2.07 0-2.86zM5.41 20L4 18.59l7.72-7.72 1.47 1.35L5.41 20z\"/>\n",
       "  </svg>\n",
       "      </button>\n",
       "      \n",
       "  <style>\n",
       "    .colab-df-container {\n",
       "      display:flex;\n",
       "      flex-wrap:wrap;\n",
       "      gap: 12px;\n",
       "    }\n",
       "\n",
       "    .colab-df-convert {\n",
       "      background-color: #E8F0FE;\n",
       "      border: none;\n",
       "      border-radius: 50%;\n",
       "      cursor: pointer;\n",
       "      display: none;\n",
       "      fill: #1967D2;\n",
       "      height: 32px;\n",
       "      padding: 0 0 0 0;\n",
       "      width: 32px;\n",
       "    }\n",
       "\n",
       "    .colab-df-convert:hover {\n",
       "      background-color: #E2EBFA;\n",
       "      box-shadow: 0px 1px 2px rgba(60, 64, 67, 0.3), 0px 1px 3px 1px rgba(60, 64, 67, 0.15);\n",
       "      fill: #174EA6;\n",
       "    }\n",
       "\n",
       "    [theme=dark] .colab-df-convert {\n",
       "      background-color: #3B4455;\n",
       "      fill: #D2E3FC;\n",
       "    }\n",
       "\n",
       "    [theme=dark] .colab-df-convert:hover {\n",
       "      background-color: #434B5C;\n",
       "      box-shadow: 0px 1px 3px 1px rgba(0, 0, 0, 0.15);\n",
       "      filter: drop-shadow(0px 1px 2px rgba(0, 0, 0, 0.3));\n",
       "      fill: #FFFFFF;\n",
       "    }\n",
       "  </style>\n",
       "\n",
       "      <script>\n",
       "        const buttonEl =\n",
       "          document.querySelector('#df-43e0592b-363b-4fd0-b308-b79d17e6fd13 button.colab-df-convert');\n",
       "        buttonEl.style.display =\n",
       "          google.colab.kernel.accessAllowed ? 'block' : 'none';\n",
       "\n",
       "        async function convertToInteractive(key) {\n",
       "          const element = document.querySelector('#df-43e0592b-363b-4fd0-b308-b79d17e6fd13');\n",
       "          const dataTable =\n",
       "            await google.colab.kernel.invokeFunction('convertToInteractive',\n",
       "                                                     [key], {});\n",
       "          if (!dataTable) return;\n",
       "\n",
       "          const docLinkHtml = 'Like what you see? Visit the ' +\n",
       "            '<a target=\"_blank\" href=https://colab.research.google.com/notebooks/data_table.ipynb>data table notebook</a>'\n",
       "            + ' to learn more about interactive tables.';\n",
       "          element.innerHTML = '';\n",
       "          dataTable['output_type'] = 'display_data';\n",
       "          await google.colab.output.renderOutput(dataTable, element);\n",
       "          const docLink = document.createElement('div');\n",
       "          docLink.innerHTML = docLinkHtml;\n",
       "          element.appendChild(docLink);\n",
       "        }\n",
       "      </script>\n",
       "    </div>\n",
       "  </div>\n",
       "  "
      ],
      "text/plain": [
       "            s         i  t_bar   days      weeks\n",
       "0    0.990000  0.010000   0.00    0.0   0.000000\n",
       "1    0.988762  0.010738   0.05    1.0   0.142857\n",
       "2    0.987435  0.011528   0.10    2.0   0.285714\n",
       "3    0.986013  0.012374   0.15    3.0   0.428571\n",
       "4    0.984487  0.013281   0.20    4.0   0.571429\n",
       "..        ...       ...    ...    ...        ...\n",
       "276  0.102758  0.000218  13.80  276.0  39.428571\n",
       "277  0.102755  0.000209  13.85  277.0  39.571429\n",
       "278  0.102752  0.000202  13.90  278.0  39.714286\n",
       "279  0.102750  0.000194  13.95  279.0  39.857143\n",
       "280  0.102747  0.000187  14.00  280.0  40.000000\n",
       "\n",
       "[281 rows x 5 columns]"
      ]
     },
     "execution_count": 27,
     "metadata": {},
     "output_type": "execute_result"
    }
   ],
   "source": [
    "time_course = np.zeros((total_steps, 2))\n",
    "time_course[0] = [s0, i0]\n",
    "\n",
    "for step in range(1, total_steps):\n",
    "    s, i = time_course[step - 1]\n",
    "    time_course[step] =  dt * calc_ds_di(s, i) + [s, i]\n",
    "\n",
    "results = pd.DataFrame(time_course, columns=['s', 'i'])\n",
    "results['t_bar'] = t_bar\n",
    "results['days'] = results['t_bar'] / gamma\n",
    "results['weeks'] = results['days'] / 7\n",
    "results"
   ]
  },
  {
   "cell_type": "code",
   "execution_count": null,
   "metadata": {
    "colab": {
     "base_uri": "https://localhost:8080/",
     "height": 316
    },
    "id": "3PbPtIQw0bO8",
    "outputId": "8f8a582a-c7c8-4c16-e5b3-d5ea1ae525c2"
   },
   "outputs": [
    {
     "data": {
      "image/png": "[encoded data removed]",
      "text/plain": [
       "<Figure size 288x288 with 1 Axes>"
      ]
     },
     "metadata": {
      "needs_background": "light"
     },
     "output_type": "display_data"
    }
   ],
   "source": [
    "plt.subplots(figsize=(4, 4))\n",
    "plt.scatter(results.s, results.i, s=1, label='progression')\n",
    "plt.plot(np.linspace(0, 1, 20), 1 - np.linspace(0, 1, 20), 'r--', label='population limit')\n",
    "\n",
    "plt.xlim((0, 1))\n",
    "plt.xlabel('$s$')\n",
    "plt.ylim((0, 1))\n",
    "plt.ylabel('$i$')\n",
    "\n",
    "plt.title('Phase space')\n",
    "plt.legend()\n",
    "plt.show()"
   ]
  },
  {
   "cell_type": "code",
   "execution_count": null,
   "metadata": {
    "colab": {
     "base_uri": "https://localhost:8080/",
     "height": 354
    },
    "id": "CtpAKZgo1B58",
    "outputId": "daaaa4d2-257a-4349-c2b5-3502f6b29734"
   },
   "outputs": [
    {
     "data": {
      "image/png": "[encoded data removed]",
      "text/plain": [
       "<Figure size 432x360 with 1 Axes>"
      ]
     },
     "metadata": {
      "needs_background": "light"
     },
     "output_type": "display_data"
    }
   ],
   "source": [
    "plt.subplots(figsize=(6, 5))\n",
    "g = sns.scatterplot(data=results, x='weeks', y='s', s=2, label='s')\n",
    "sns.scatterplot(data=results, x='weeks', y='i', s=2, label='i')\n",
    "\n",
    "g.set(ylabel='proportion')\n",
    "plt.legend()\n",
    "plt.show()\n"
   ]
  },
  {
   "cell_type": "markdown",
   "metadata": {
    "id": "gtsbl82z5fsG"
   },
   "source": [
    "### b) Estimating $N_{tot}$\n",
    "\n",
    "We have $2816 = N_{case} = N_{tot} * (1-s(\\infty))$\n",
    "\n",
    "Moving things around we get"
   ]
  },
  {
   "cell_type": "code",
   "execution_count": null,
   "metadata": {
    "colab": {
     "base_uri": "https://localhost:8080/"
    },
    "id": "7U9-iUON5XTy",
    "outputId": "4d420e54-e710-47c2-a332-3ad787a20a02"
   },
   "outputs": [
    {
     "name": "stdout",
     "output_type": "stream",
     "text": [
      "Number of total population is equal 3138\n"
     ]
    }
   ],
   "source": [
    "N_tot = int(2816 / (1. - results.s.iat[-1]))\n",
    "print(f'Number of total population is equal {N_tot}')"
   ]
  },
  {
   "cell_type": "markdown",
   "metadata": {
    "id": "QN2dtR5n6-6F"
   },
   "source": [
    "### c) plotting new cases\n",
    "$ -N_{tot} \\frac{ds}{dt} = -N_{tot} \\frac{ds}{d\\bar{t}} \\gamma = N_{tot} R_0 s i \\gamma $"
   ]
  },
  {
   "cell_type": "code",
   "execution_count": null,
   "metadata": {
    "colab": {
     "base_uri": "https://localhost:8080/",
     "height": 354
    },
    "id": "B8-9C6vr6RLg",
    "outputId": "4b2b63e1-f473-4699-cb9e-779db8ea0abb"
   },
   "outputs": [
    {
     "data": {
      "image/png": "[encoded data removed]",
      "text/plain": [
       "<Figure size 432x360 with 1 Axes>"
      ]
     },
     "metadata": {
      "needs_background": "light"
     },
     "output_type": "display_data"
    }
   ],
   "source": [
    "results['new_cases'] = N_tot * R_knot * results.s * results.i * gamma\n",
    "\n",
    "plt.subplots(figsize=(6, 5))\n",
    "g = sns.scatterplot(data=results, x='weeks', y='new_cases', s=2, label='new cases')\n",
    "\n",
    "g.set(ylabel='proportion')\n",
    "plt.legend()\n",
    "plt.show()\n"
   ]
  },
  {
   "cell_type": "markdown",
   "metadata": {
    "id": "UAQK7xcU8Vsv"
   },
   "source": [
    "# Q13.6 - Endemic SIRS model fixed point\n",
    "\n",
    "Working with equation 12.8 rescaled for time we get the DE system:\n",
    "$$\n",
    "\\frac{ds}{d\\bar{t}} = -R_0si + \\mu (1 - s - i) ;\\ \\\n",
    "\\frac{di}{d\\bar{t}} = (R_0s - 1)i;\\ \\\n",
    "i+s \\leq 1\n",
    "$$\n",
    "\n",
    "Using the parameters: $R_0 = 3,\\ \\mu=0.07$, we are required to use linear stability to analyse the nontrivial fixed point.\n",
    "\n",
    "Let us start with calculating the Jacobian matrix:\n",
    "$$\n",
    "J(\\begin{bmatrix} -R_0si + \\mu (1 - s - i) \\\\ (R_0s - 1)i\\end{bmatrix}) =\n",
    "J(\\begin{bmatrix} -3si + 0.07 - 0.07s - 0.07i \\\\ 3si - i\\end{bmatrix}) =\n",
    "\\begin{bmatrix} \\frac{d}{ds} -3si + 0.07 - 0.07s - 0.07i & \\frac{d}{di} -3si + 0.07 - 0.07s - 0.07i \\\\ \\frac{d}{ds}3si - i & \\frac{d}{di}3si - i \\end{bmatrix} =\n",
    "\\begin{bmatrix} -3i - 0.07 & -3s - 0.07 \\\\ 3i & 3s - 1 \\end{bmatrix}\n",
    "$$\n",
    "\n",
    "The location of the nontrivial point is the intersection of the two nullclines $R_0s = 1$ and $R_0si = \\mu (1 - s - i)$. The first equation gives us $s = 1/3$, and the second one:\n",
    "$$\n",
    "R_0si = \\mu (1 - s - i)\n",
    "\\\\\n",
    "3 \\cdot 1/3 \\cdot i = 0.07 (1 - 1/3 - i)\n",
    "\\\\\n",
    "i = \\frac{0.14}{3.21} = 0.0436\n",
    "$$\n",
    "\n",
    "The value of the Jacobianin this point is\n",
    "$$ J =\n",
    "\\begin{bmatrix} -3 \\cdot 0.0436 - 0.07 & -3\\cdot 1/3 - 0.07 \\\\ 3 \\cdot 0.0436 & 3\\cdot 1/3 - 1 \\end{bmatrix} =\n",
    "\\begin{bmatrix} -0.201 & -1.07 \\\\ 0.131 & 0 \\end{bmatrix}\n",
    "$$\n",
    "Extracting the eigenvalues:"
   ]
  },
  {
   "cell_type": "code",
   "execution_count": null,
   "metadata": {
    "colab": {
     "base_uri": "https://localhost:8080/"
    },
    "id": "6CSPvcyc3gUJ",
    "outputId": "67017431-e719-48cc-e385-57e531033bab"
   },
   "outputs": [
    {
     "data": {
      "text/plain": [
       "array([[-0.20084112, -1.07      ],\n",
       "       [ 0.13084112,  0.        ]])"
      ]
     },
     "execution_count": 41,
     "metadata": {},
     "output_type": "execute_result"
    }
   ],
   "source": [
    "R_0 = 3\n",
    "mu = 0.07\n",
    "s = 1 / R_0\n",
    "i = mu * (1 - s) / (1 + mu )\n",
    "\n",
    "jacobian = np.array([[-3 * i - mu, -3 * s - mu], [3 * i , 3 * s - 1]])\n",
    "jacobian"
   ]
  },
  {
   "cell_type": "code",
   "execution_count": null,
   "metadata": {
    "colab": {
     "base_uri": "https://localhost:8080/"
    },
    "id": "viG5Iedg9j9N",
    "outputId": "0120c6b7-2b7a-4cd8-9e14-bd42be29d078"
   },
   "outputs": [
    {
     "data": {
      "text/plain": [
       "array([-0.10042056+0.36043822j, -0.10042056-0.36043822j])"
      ]
     },
     "execution_count": 42,
     "metadata": {},
     "output_type": "execute_result"
    }
   ],
   "source": [
    "np.linalg.eig(jacobian)[0]"
   ]
  },
  {
   "cell_type": "markdown",
   "metadata": {
    "id": "LcNSPyBL93XM"
   },
   "source": [
    "According to $T_2$ 13.4.1c' Linear Stability Analysis:\n",
    "\n",
    "*If both \\[eigenvalues\\] are complex, then the fixed point is called a spiral: unstable in the case of the relaxation oscillator, or stable if both have negative real\n",
    "part.*\n",
    "\n",
    "And thus our nontrivial fixed point is a stable spiral!"
   ]
  },
  {
   "cell_type": "code",
   "execution_count": null,
   "metadata": {
    "id": "_tkNkXpp-05A"
   },
   "outputs": [],
   "source": []
  }
 ],
 "metadata": {
  "colab": {
   "collapsed_sections": [
    "gV1XSbtDW9Rz",
    "C5182WyMCw1l",
    "LzEPRT4Ih148",
    "nOGx1GQShs5Z"
   ],
   "provenance": []
  },
  "kernelspec": {
   "display_name": "Python 3 (ipykernel)",
   "language": "python",
   "name": "python3"
  },
  "language_info": {
   "codemirror_mode": {
    "name": "ipython",
    "version": 3
   },
   "file_extension": ".py",
   "mimetype": "text/x-python",
   "name": "python",
   "nbconvert_exporter": "python",
   "pygments_lexer": "ipython3",
   "version": "3.10.0"
  }
 },
 "nbformat": 4,
 "nbformat_minor": 1
}
