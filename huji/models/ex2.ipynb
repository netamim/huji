{
 "cells": [
  {
   "cell_type": "code",
   "execution_count": 13,
   "id": "c34a0d3e",
   "metadata": {},
   "outputs": [],
   "source": [
    "import numpy as np"
   ]
  },
  {
   "cell_type": "code",
   "execution_count": 41,
   "id": "10e29094",
   "metadata": {},
   "outputs": [],
   "source": [
    "def poissonSetup(mu):\n",
    "\n",
    "    binEdges = [0]\n",
    "    binNum = max(10,10*mu)\n",
    "\n",
    "    for i in range(1,binNum):\n",
    "        binEdges.append(binEdges[-1] + (mu^i)*np.exp(-mu)/np.math.factorial(i))\n",
    "        \n",
    "\n",
    "    binEdges = [val/binEdges[-1] for val in binEdges]\n",
    "    \n",
    "    return binEdges\n",
    "\n"
   ]
  },
  {
   "cell_type": "code",
   "execution_count": 68,
   "id": "c7efaf9f",
   "metadata": {},
   "outputs": [
    {
     "data": {
      "text/plain": [
       "inf"
      ]
     },
     "execution_count": 68,
     "metadata": {},
     "output_type": "execute_result"
    }
   ],
   "source": [
    "1/10**(-322)"
   ]
  }
 ],
 "metadata": {
  "kernelspec": {
   "display_name": "Python 3 (ipykernel)",
   "language": "python",
   "name": "python3"
  },
  "language_info": {
   "codemirror_mode": {
    "name": "ipython",
    "version": 3
   },
   "file_extension": ".py",
   "mimetype": "text/x-python",
   "name": "python",
   "nbconvert_exporter": "python",
   "pygments_lexer": "ipython3",
   "version": "3.10.0"
  }
 },
 "nbformat": 4,
 "nbformat_minor": 5
}
